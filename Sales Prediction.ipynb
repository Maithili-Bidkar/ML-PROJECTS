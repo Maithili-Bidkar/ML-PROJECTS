{
 "cells": [
  {
   "cell_type": "markdown",
   "metadata": {},
   "source": [
    "# Name - MAITHILI S. BIDKAR\n",
    "## SALES PREDICTION USING PYTHON"
   ]
  },
  {
   "cell_type": "markdown",
   "metadata": {},
   "source": [
    "### Importing all necessary libraries and algorithms"
   ]
  },
  {
   "cell_type": "code",
   "execution_count": 50,
   "metadata": {},
   "outputs": [],
   "source": [
    "import pandas as pd\n",
    "import numpy as np\n",
    "from sklearn.model_selection import train_test_split\n",
    "from sklearn.linear_model import LinearRegression\n"
   ]
  },
  {
   "cell_type": "markdown",
   "metadata": {},
   "source": [
    "### Reading csv file "
   ]
  },
  {
   "cell_type": "code",
   "execution_count": 51,
   "metadata": {},
   "outputs": [
    {
     "data": {
      "text/html": [
       "<div>\n",
       "<style scoped>\n",
       "    .dataframe tbody tr th:only-of-type {\n",
       "        vertical-align: middle;\n",
       "    }\n",
       "\n",
       "    .dataframe tbody tr th {\n",
       "        vertical-align: top;\n",
       "    }\n",
       "\n",
       "    .dataframe thead th {\n",
       "        text-align: right;\n",
       "    }\n",
       "</style>\n",
       "<table border=\"1\" class=\"dataframe\">\n",
       "  <thead>\n",
       "    <tr style=\"text-align: right;\">\n",
       "      <th></th>\n",
       "      <th>Unnamed: 0</th>\n",
       "      <th>TV</th>\n",
       "      <th>Radio</th>\n",
       "      <th>Newspaper</th>\n",
       "      <th>Sales</th>\n",
       "    </tr>\n",
       "  </thead>\n",
       "  <tbody>\n",
       "    <tr>\n",
       "      <th>0</th>\n",
       "      <td>1</td>\n",
       "      <td>230.1</td>\n",
       "      <td>37.8</td>\n",
       "      <td>69.2</td>\n",
       "      <td>22.1</td>\n",
       "    </tr>\n",
       "    <tr>\n",
       "      <th>1</th>\n",
       "      <td>2</td>\n",
       "      <td>44.5</td>\n",
       "      <td>39.3</td>\n",
       "      <td>45.1</td>\n",
       "      <td>10.4</td>\n",
       "    </tr>\n",
       "    <tr>\n",
       "      <th>2</th>\n",
       "      <td>3</td>\n",
       "      <td>17.2</td>\n",
       "      <td>45.9</td>\n",
       "      <td>69.3</td>\n",
       "      <td>9.3</td>\n",
       "    </tr>\n",
       "    <tr>\n",
       "      <th>3</th>\n",
       "      <td>4</td>\n",
       "      <td>151.5</td>\n",
       "      <td>41.3</td>\n",
       "      <td>58.5</td>\n",
       "      <td>18.5</td>\n",
       "    </tr>\n",
       "    <tr>\n",
       "      <th>4</th>\n",
       "      <td>5</td>\n",
       "      <td>180.8</td>\n",
       "      <td>10.8</td>\n",
       "      <td>58.4</td>\n",
       "      <td>12.9</td>\n",
       "    </tr>\n",
       "  </tbody>\n",
       "</table>\n",
       "</div>"
      ],
      "text/plain": [
       "   Unnamed: 0     TV  Radio  Newspaper  Sales\n",
       "0           1  230.1   37.8       69.2   22.1\n",
       "1           2   44.5   39.3       45.1   10.4\n",
       "2           3   17.2   45.9       69.3    9.3\n",
       "3           4  151.5   41.3       58.5   18.5\n",
       "4           5  180.8   10.8       58.4   12.9"
      ]
     },
     "execution_count": 51,
     "metadata": {},
     "output_type": "execute_result"
    }
   ],
   "source": [
    "ds = pd.read_csv('Advertising.csv')\n",
    "ds.head()"
   ]
  },
  {
   "cell_type": "markdown",
   "metadata": {},
   "source": [
    "### Checking null values"
   ]
  },
  {
   "cell_type": "code",
   "execution_count": 52,
   "metadata": {},
   "outputs": [
    {
     "data": {
      "text/plain": [
       "Unnamed: 0    0\n",
       "TV            0\n",
       "Radio         0\n",
       "Newspaper     0\n",
       "Sales         0\n",
       "dtype: int64"
      ]
     },
     "execution_count": 52,
     "metadata": {},
     "output_type": "execute_result"
    }
   ],
   "source": [
    "ds.isnull().sum()"
   ]
  },
  {
   "cell_type": "code",
   "execution_count": 53,
   "metadata": {},
   "outputs": [],
   "source": [
    "x = ds.iloc[:,1:4].values"
   ]
  },
  {
   "cell_type": "code",
   "execution_count": 54,
   "metadata": {},
   "outputs": [],
   "source": [
    "y = ds.iloc[:,4].values"
   ]
  },
  {
   "cell_type": "markdown",
   "metadata": {},
   "source": [
    "### Seperating training and testing data"
   ]
  },
  {
   "cell_type": "code",
   "execution_count": 55,
   "metadata": {},
   "outputs": [],
   "source": [
    "x_train, x_test, y_train, y_test = train_test_split(x,y,train_size = 0.2)"
   ]
  },
  {
   "cell_type": "markdown",
   "metadata": {},
   "source": [
    "### Using Linear Regression model for prediction"
   ]
  },
  {
   "cell_type": "code",
   "execution_count": 56,
   "metadata": {},
   "outputs": [
    {
     "data": {
      "text/plain": [
       "LinearRegression(copy_X=True, fit_intercept=True, n_jobs=None, normalize=False)"
      ]
     },
     "execution_count": 56,
     "metadata": {},
     "output_type": "execute_result"
    }
   ],
   "source": [
    "model = LinearRegression()\n",
    "model.fit(x_train, y_train)"
   ]
  },
  {
   "cell_type": "code",
   "execution_count": 57,
   "metadata": {},
   "outputs": [],
   "source": [
    "y_P = model.predict(x_test)"
   ]
  },
  {
   "cell_type": "code",
   "execution_count": 58,
   "metadata": {},
   "outputs": [
    {
     "data": {
      "text/plain": [
       "array([ 8.41264012, 14.20749112, 12.0669706 , 17.06296928, 16.18934889,\n",
       "       16.19588184,  9.06077473, 22.83523153,  4.49840306,  6.57546225,\n",
       "        8.77025042, 16.24978912, 11.59129714, 21.57538789, 15.48754401,\n",
       "       21.37487766, 20.94471831,  8.3981201 , 19.14319921, 18.17701237,\n",
       "       16.88634096, 15.33121377, 20.82347071,  6.61397053, 13.66960504,\n",
       "       13.35286139, 20.17592227, 16.06255198, 16.94609765, 15.42181786,\n",
       "        8.15148537, 10.54699183,  5.38589138, 13.72858397, 15.17893595,\n",
       "       12.57128162, 19.62232192, 14.79407678, 22.54396374, 13.02403082,\n",
       "       16.68431418, 15.07653116, 17.63866782,  8.79923459,  7.6058917 ,\n",
       "        6.02720579, 11.483826  , 20.49203849, 21.34946212,  9.98704135,\n",
       "       10.31411068, 23.76235493,  4.49871899,  8.7999727 , 14.96521175,\n",
       "       18.3271977 , 17.96787154, 11.9515085 ,  6.41235715, 13.53718235,\n",
       "        3.61447535,  9.30830441, 15.0620691 , 14.98838417, 14.06280903,\n",
       "       10.5276163 , 14.58339031, 17.15190924, 17.15780342, 13.84203725,\n",
       "       16.37446529, 15.28745025, 21.44724956, 16.3168512 , 11.2210708 ,\n",
       "        8.96040078, 12.14626694,  9.67984953,  8.73878468, 12.46645205,\n",
       "       18.27388438, 13.26597476, 11.62236305, 20.53037868, 15.18418944,\n",
       "       16.88182815, 18.99366179, 12.52476531, 14.1748079 ,  9.67328274,\n",
       "       16.87912277,  3.78609482, 16.07678062,  9.63620401, 13.65529999,\n",
       "       18.77554918, 23.12467988, 12.02396269, 11.59774235,  8.70246069,\n",
       "       20.87233786, 14.51044691, 16.6109557 , 14.62517089,  9.96033921,\n",
       "       13.78155088, 11.89735318,  6.77965805, 22.912257  ,  8.09768005,\n",
       "       11.32518626,  9.73143198, 10.38529112, 14.91472533,  9.61424655,\n",
       "       10.07145349, 18.09284918, 17.12309489,  8.10212665, 16.64590091,\n",
       "       12.52842964, 18.69580973, 19.49224075, 19.18703207, 11.00185452,\n",
       "        7.73124686, 20.88820841, 11.87138544, 20.36911477, 12.0511563 ,\n",
       "       17.31543556, 22.87863032, 19.7462664 , 10.25155036, 10.6905561 ,\n",
       "       15.87956604, 12.70710773, 15.36888499, 14.83304742, 12.12029433,\n",
       "       20.19554036, 19.4463192 , 23.39372395, 17.5460087 , 12.66066776,\n",
       "        9.90457979, 17.94165172,  9.42737854,  5.32003568, 18.99913634,\n",
       "        9.86841423,  7.36199618,  7.0948257 ,  7.84109333,  6.09347157,\n",
       "       20.55084881,  9.04648742, 13.08246488, 13.82782991, 10.22210306])"
      ]
     },
     "execution_count": 58,
     "metadata": {},
     "output_type": "execute_result"
    }
   ],
   "source": [
    "y_P"
   ]
  },
  {
   "cell_type": "code",
   "execution_count": null,
   "metadata": {},
   "outputs": [],
   "source": []
  },
  {
   "cell_type": "code",
   "execution_count": null,
   "metadata": {},
   "outputs": [],
   "source": []
  },
  {
   "cell_type": "code",
   "execution_count": null,
   "metadata": {},
   "outputs": [],
   "source": []
  }
 ],
 "metadata": {
  "kernelspec": {
   "display_name": "Python 3",
   "language": "python",
   "name": "python3"
  },
  "language_info": {
   "codemirror_mode": {
    "name": "ipython",
    "version": 3
   },
   "file_extension": ".py",
   "mimetype": "text/x-python",
   "name": "python",
   "nbconvert_exporter": "python",
   "pygments_lexer": "ipython3",
   "version": "3.7.6"
  }
 },
 "nbformat": 4,
 "nbformat_minor": 4
}
